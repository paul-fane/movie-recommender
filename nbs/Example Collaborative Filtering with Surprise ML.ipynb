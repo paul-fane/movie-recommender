{
 "cells": [
  {
   "cell_type": "code",
   "execution_count": 1,
   "id": "5a0a9f7c-f093-4b1b-88ee-e9a2e672e75c",
   "metadata": {},
   "outputs": [],
   "source": [
    "# %pip install scikit-surprise # pickle"
   ]
  },
  {
   "cell_type": "code",
   "execution_count": 1,
   "id": "88b862ca-4bd3-488b-b263-17b335ff41d8",
   "metadata": {},
   "outputs": [],
   "source": [
    "from surprise import accuracy, Reader, Dataset, SVD\n",
    "from surprise.model_selection import cross_validate"
   ]
  },
  {
   "cell_type": "code",
   "execution_count": 2,
   "id": "35dc167f-3819-44c8-bbed-f326b3b45d52",
   "metadata": {},
   "outputs": [
    {
     "name": "stdout",
     "output_type": "stream",
     "text": [
      "C:\\Users\\paule\\Desktop\\Netflix-Clone\\src\\data\n"
     ]
    },
    {
     "data": {
      "text/plain": [
       "True"
      ]
     },
     "execution_count": 2,
     "metadata": {},
     "output_type": "execute_result"
    }
   ],
   "source": [
    "import pandas as pd\n",
    "import pathlib\n",
    "DATA_DIR = pathlib.Path().resolve().parent / \"data\"\n",
    "print(DATA_DIR)\n",
    "DATA_DIR.exists()"
   ]
  },
  {
   "cell_type": "code",
   "execution_count": 3,
   "id": "d59da8e2-abfe-4f15-a1b9-5ee5670393e0",
   "metadata": {},
   "outputs": [
    {
     "data": {
      "text/plain": [
       "True"
      ]
     },
     "execution_count": 3,
     "metadata": {},
     "output_type": "execute_result"
    }
   ],
   "source": [
    "dataset = DATA_DIR / 'ratings_small.csv'\n",
    "dataset.exists()"
   ]
  },
  {
   "cell_type": "code",
   "execution_count": 4,
   "id": "653bbec8-9d84-41ae-a6c7-f8f0b9bf5dee",
   "metadata": {},
   "outputs": [
    {
     "data": {
      "text/html": [
       "<div>\n",
       "<style scoped>\n",
       "    .dataframe tbody tr th:only-of-type {\n",
       "        vertical-align: middle;\n",
       "    }\n",
       "\n",
       "    .dataframe tbody tr th {\n",
       "        vertical-align: top;\n",
       "    }\n",
       "\n",
       "    .dataframe thead th {\n",
       "        text-align: right;\n",
       "    }\n",
       "</style>\n",
       "<table border=\"1\" class=\"dataframe\">\n",
       "  <thead>\n",
       "    <tr style=\"text-align: right;\">\n",
       "      <th></th>\n",
       "      <th>userId</th>\n",
       "      <th>movieId</th>\n",
       "      <th>rating</th>\n",
       "      <th>timestamp</th>\n",
       "    </tr>\n",
       "  </thead>\n",
       "  <tbody>\n",
       "    <tr>\n",
       "      <th>0</th>\n",
       "      <td>1</td>\n",
       "      <td>31</td>\n",
       "      <td>2.5</td>\n",
       "      <td>1260759144</td>\n",
       "    </tr>\n",
       "    <tr>\n",
       "      <th>1</th>\n",
       "      <td>1</td>\n",
       "      <td>1029</td>\n",
       "      <td>3.0</td>\n",
       "      <td>1260759179</td>\n",
       "    </tr>\n",
       "    <tr>\n",
       "      <th>2</th>\n",
       "      <td>1</td>\n",
       "      <td>1061</td>\n",
       "      <td>3.0</td>\n",
       "      <td>1260759182</td>\n",
       "    </tr>\n",
       "    <tr>\n",
       "      <th>3</th>\n",
       "      <td>1</td>\n",
       "      <td>1129</td>\n",
       "      <td>2.0</td>\n",
       "      <td>1260759185</td>\n",
       "    </tr>\n",
       "    <tr>\n",
       "      <th>4</th>\n",
       "      <td>1</td>\n",
       "      <td>1172</td>\n",
       "      <td>4.0</td>\n",
       "      <td>1260759205</td>\n",
       "    </tr>\n",
       "  </tbody>\n",
       "</table>\n",
       "</div>"
      ],
      "text/plain": [
       "   userId  movieId  rating   timestamp\n",
       "0       1       31     2.5  1260759144\n",
       "1       1     1029     3.0  1260759179\n",
       "2       1     1061     3.0  1260759182\n",
       "3       1     1129     2.0  1260759185\n",
       "4       1     1172     4.0  1260759205"
      ]
     },
     "execution_count": 4,
     "metadata": {},
     "output_type": "execute_result"
    }
   ],
   "source": [
    "df = pd.read_csv(dataset)\n",
    "df['rating'].dropna(inplace=True)\n",
    "df.head()"
   ]
  },
  {
   "cell_type": "code",
   "execution_count": 5,
   "id": "72890bf7-0a8e-48c2-8c10-91b406eaf58f",
   "metadata": {},
   "outputs": [
    {
     "data": {
      "text/plain": [
       "(5.0, 0.5)"
      ]
     },
     "execution_count": 5,
     "metadata": {},
     "output_type": "execute_result"
    }
   ],
   "source": [
    "df.rating.max(), df.rating.min()"
   ]
  },
  {
   "cell_type": "code",
   "execution_count": 9,
   "id": "0f5be201-1ba3-4a6e-895d-7a7e57afac19",
   "metadata": {},
   "outputs": [],
   "source": [
    "# Setting surprise\n",
    "# Adding rating scale\n",
    "reader = Reader(rating_scale=(0.5, 5))\n",
    "\n",
    "# Loading the dataframe whit 'userId', 'movieId', 'rating' coloms\n",
    "data = Dataset.load_from_df(df[['userId', 'movieId', 'rating']], reader)"
   ]
  },
  {
   "cell_type": "code",
   "execution_count": 10,
   "id": "c66a1ca9-5d48-4413-a0c3-5d3ddcf33778",
   "metadata": {},
   "outputs": [
    {
     "name": "stdout",
     "output_type": "stream",
     "text": [
      "Processing epoch 0\n",
      "Processing epoch 1\n",
      "Processing epoch 2\n",
      "Processing epoch 3\n",
      "Processing epoch 4\n",
      "Processing epoch 5\n",
      "Processing epoch 6\n",
      "Processing epoch 7\n",
      "Processing epoch 8\n",
      "Processing epoch 9\n",
      "Processing epoch 10\n",
      "Processing epoch 11\n",
      "Processing epoch 12\n",
      "Processing epoch 13\n",
      "Processing epoch 14\n",
      "Processing epoch 15\n",
      "Processing epoch 16\n",
      "Processing epoch 17\n",
      "Processing epoch 18\n",
      "Processing epoch 19\n",
      "Processing epoch 0\n",
      "Processing epoch 1\n",
      "Processing epoch 2\n",
      "Processing epoch 3\n",
      "Processing epoch 4\n",
      "Processing epoch 5\n",
      "Processing epoch 6\n",
      "Processing epoch 7\n",
      "Processing epoch 8\n",
      "Processing epoch 9\n",
      "Processing epoch 10\n",
      "Processing epoch 11\n",
      "Processing epoch 12\n",
      "Processing epoch 13\n",
      "Processing epoch 14\n",
      "Processing epoch 15\n",
      "Processing epoch 16\n",
      "Processing epoch 17\n",
      "Processing epoch 18\n",
      "Processing epoch 19\n",
      "Processing epoch 0\n",
      "Processing epoch 1\n",
      "Processing epoch 2\n",
      "Processing epoch 3\n",
      "Processing epoch 4\n",
      "Processing epoch 5\n",
      "Processing epoch 6\n",
      "Processing epoch 7\n",
      "Processing epoch 8\n",
      "Processing epoch 9\n",
      "Processing epoch 10\n",
      "Processing epoch 11\n",
      "Processing epoch 12\n",
      "Processing epoch 13\n",
      "Processing epoch 14\n",
      "Processing epoch 15\n",
      "Processing epoch 16\n",
      "Processing epoch 17\n",
      "Processing epoch 18\n",
      "Processing epoch 19\n",
      "Processing epoch 0\n",
      "Processing epoch 1\n",
      "Processing epoch 2\n",
      "Processing epoch 3\n",
      "Processing epoch 4\n",
      "Processing epoch 5\n",
      "Processing epoch 6\n",
      "Processing epoch 7\n",
      "Processing epoch 8\n",
      "Processing epoch 9\n",
      "Processing epoch 10\n",
      "Processing epoch 11\n",
      "Processing epoch 12\n",
      "Processing epoch 13\n",
      "Processing epoch 14\n",
      "Processing epoch 15\n",
      "Processing epoch 16\n",
      "Processing epoch 17\n",
      "Processing epoch 18\n",
      "Processing epoch 19\n",
      "Evaluating RMSE, MAE of algorithm SVD on 4 split(s).\n",
      "\n",
      "                  Fold 1  Fold 2  Fold 3  Fold 4  Mean    Std     \n",
      "RMSE (testset)    0.8954  0.8976  0.9081  0.8978  0.8997  0.0049  \n",
      "MAE (testset)     0.6895  0.6929  0.6987  0.6894  0.6926  0.0038  \n",
      "Fit time          1.15    1.08    1.00    0.96    1.05    0.08    \n",
      "Test time         0.25    0.18    0.19    0.13    0.19    0.04    \n"
     ]
    },
    {
     "data": {
      "text/plain": [
       "{'test_rmse': array([0.89540823, 0.89760063, 0.90806832, 0.89783456]),\n",
       " 'test_mae': array([0.68945877, 0.69293155, 0.69871321, 0.68940415]),\n",
       " 'fit_time': (1.1546688079833984,\n",
       "  1.0791113376617432,\n",
       "  0.9958007335662842,\n",
       "  0.9611310958862305),\n",
       " 'test_time': (0.251873254776001,\n",
       "  0.1800367832183838,\n",
       "  0.18880200386047363,\n",
       "  0.13486242294311523)}"
      ]
     },
     "execution_count": 10,
     "metadata": {},
     "output_type": "execute_result"
    }
   ],
   "source": [
    "# Declaring the algoritm\n",
    "algo = SVD(verbose=True, n_epochs=20)\n",
    "\n",
    "# Cross validate will compare the algoritm whit the data across RMSE function and MAE function\n",
    "cross_validate(algo, data, measures=['RMSE', \"MAE\"], cv=4, verbose=True)"
   ]
  },
  {
   "cell_type": "code",
   "execution_count": 11,
   "id": "53e736d7-74e5-4d31-9335-ff022ac76fe8",
   "metadata": {},
   "outputs": [
    {
     "name": "stdout",
     "output_type": "stream",
     "text": [
      "Processing epoch 0\n",
      "Processing epoch 1\n",
      "Processing epoch 2\n",
      "Processing epoch 3\n",
      "Processing epoch 4\n",
      "Processing epoch 5\n",
      "Processing epoch 6\n",
      "Processing epoch 7\n",
      "Processing epoch 8\n",
      "Processing epoch 9\n",
      "Processing epoch 10\n",
      "Processing epoch 11\n",
      "Processing epoch 12\n",
      "Processing epoch 13\n",
      "Processing epoch 14\n",
      "Processing epoch 15\n",
      "Processing epoch 16\n",
      "Processing epoch 17\n",
      "Processing epoch 18\n",
      "Processing epoch 19\n"
     ]
    },
    {
     "data": {
      "text/plain": [
       "<surprise.prediction_algorithms.matrix_factorization.SVD at 0x1fca67b86e0>"
      ]
     },
     "execution_count": 11,
     "metadata": {},
     "output_type": "execute_result"
    }
   ],
   "source": [
    "# Training\n",
    "\n",
    "trainset = data.build_full_trainset()\n",
    "algo.fit(trainset)"
   ]
  },
  {
   "cell_type": "code",
   "execution_count": 14,
   "id": "6d907f4a-8e78-41a7-b6fc-b86b1abed65d",
   "metadata": {},
   "outputs": [
    {
     "name": "stdout",
     "output_type": "stream",
     "text": [
      "RMSE: 0.6436\n"
     ]
    },
    {
     "data": {
      "text/plain": [
       "0.6435888519053693"
      ]
     },
     "execution_count": 14,
     "metadata": {},
     "output_type": "execute_result"
    }
   ],
   "source": [
    "# Accuracy\n",
    "\n",
    "# Grab the trestset and some prediction from that testset\n",
    "testset = trainset.build_testset()\n",
    "predictions = algo.test(testset)\n",
    "# RMSE should be low as we are biased\n",
    "accuracy.rmse(predictions, verbose=True)\n",
    "# accuracy.mae(predictions, verbose=True)"
   ]
  },
  {
   "cell_type": "code",
   "execution_count": 17,
   "id": "a08ebbc6-35c1-4375-b5e0-3732d7f3e848",
   "metadata": {},
   "outputs": [
    {
     "name": "stdout",
     "output_type": "stream",
     "text": [
      "599 71033\n"
     ]
    }
   ],
   "source": [
    "sample_row = df.sample(n=1)\n",
    "userId = sample_row['userId'].values[0]\n",
    "movieId = sample_row['movieId'].values[0]\n",
    "print(userId, movieId)"
   ]
  },
  {
   "cell_type": "code",
   "execution_count": 18,
   "id": "9ea604d0-d183-4b4b-8843-84c762681cc6",
   "metadata": {},
   "outputs": [
    {
     "data": {
      "text/plain": [
       "3.318980858780768"
      ]
     },
     "execution_count": 18,
     "metadata": {},
     "output_type": "execute_result"
    }
   ],
   "source": [
    "# Getting the estimated rating based on the user and movie id\n",
    "pred = algo.predict(uid=userId, iid=movieId)\n",
    "pred.est"
   ]
  },
  {
   "cell_type": "code",
   "execution_count": 19,
   "id": "6a803378-a27d-46b3-87fd-96a52d398590",
   "metadata": {},
   "outputs": [],
   "source": [
    "import pickle"
   ]
  },
  {
   "cell_type": "code",
   "execution_count": 20,
   "id": "a92c28aa-b3ee-465d-ad6e-f0afb2fa2d4e",
   "metadata": {},
   "outputs": [],
   "source": [
    "algo_data = {\"model\": algo}\n",
    "with open('model.pkl', 'wb') as f:\n",
    "    pickle.dump(algo_data, f)"
   ]
  },
  {
   "cell_type": "code",
   "execution_count": 21,
   "id": "5756fead-ac3b-4b18-bf3d-21603db0a489",
   "metadata": {},
   "outputs": [],
   "source": [
    "model_algo= None\n",
    "with open('model.pkl', 'rb') as f:\n",
    "    model_data_loaded = pickle.load(f)\n",
    "    model_algo = model_data_loaded.get('model')"
   ]
  },
  {
   "cell_type": "code",
   "execution_count": 22,
   "id": "5aad2953-4541-4de6-8f4d-281aef2786ac",
   "metadata": {},
   "outputs": [
    {
     "data": {
      "text/plain": [
       "3.318980858780768"
      ]
     },
     "execution_count": 22,
     "metadata": {},
     "output_type": "execute_result"
    }
   ],
   "source": [
    "model_algo.predict(uid=userId, iid=movieId).est"
   ]
  },
  {
   "cell_type": "code",
   "execution_count": 23,
   "id": "2b9ed1ce-75a5-4527-a501-a702d7146695",
   "metadata": {},
   "outputs": [
    {
     "name": "stdout",
     "output_type": "stream",
     "text": [
      "596 2706 3.6921048632112794\n",
      "373 2390 3.177367049737415\n",
      "130 1086 3.7435009764844285\n",
      "63 3897 3.8319745035164687\n",
      "415 10 3.8039183810950856\n",
      "661 2352 3.545325679266506\n",
      "15 53972 2.733854797621082\n",
      "607 589 3.854806698736473\n",
      "295 1084 4.101516191419939\n",
      "99 2565 3.0632845425732325\n"
     ]
    }
   ],
   "source": [
    "sample_rows = df.sample(n=10).to_dict('records')\n",
    "for row in sample_rows:\n",
    "    userId = row['userId']\n",
    "    movieId = row['movieId']\n",
    "    pred = model_algo.predict(uid=userId, iid=movieId).est\n",
    "    print(userId, movieId, pred)"
   ]
  },
  {
   "cell_type": "code",
   "execution_count": null,
   "id": "3b8e5e4d-fb25-4234-a32e-ddb86a928768",
   "metadata": {},
   "outputs": [],
   "source": []
  }
 ],
 "metadata": {
  "kernelspec": {
   "display_name": "Python 3 (ipykernel)",
   "language": "python",
   "name": "python3"
  },
  "language_info": {
   "codemirror_mode": {
    "name": "ipython",
    "version": 3
   },
   "file_extension": ".py",
   "mimetype": "text/x-python",
   "name": "python",
   "nbconvert_exporter": "python",
   "pygments_lexer": "ipython3",
   "version": "3.12.4"
  }
 },
 "nbformat": 4,
 "nbformat_minor": 5
}
